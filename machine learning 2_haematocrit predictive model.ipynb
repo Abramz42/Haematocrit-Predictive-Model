{
 "cells": [
  {
   "cell_type": "markdown",
   "id": "3e286d62",
   "metadata": {},
   "source": [
    "# EHR Analysis Python Data Analysis\n",
    "\n",
    "Hello, I'm **`Ademola Abraham`**, A **`Health Data Analyst`** who will be working on a real world Dataset called **`Electronic Health Record(EHR) Dataset`**, which is in the CSV format and was gotten from [data.mendeley.com](https://data.mendeley.com/datasets/7kv3rctx7m/1).\n",
    "\n",
    "I will be using Python data analysis libaries to analyse, clean and transform the dataset in preparation for machine learning techinqiue to make a predictive model.\n",
    "\n",
    "# Data Description\n",
    "The dataset is Electronic Health Record predicting collected from a privatee Hospital in Indonesia. it contains the patients laboratory test results used to determine next patient treatment whether in care or out care patient. it has 11 columns as listed below;\n",
    "\n",
    "- Haematocrit\n",
    "\n",
    "- Haemoglobin\n",
    "- Erythrocyte\n",
    "- Leucocyte\n",
    "- Thrombocyte\n",
    "- MCH\n",
    "- MCHC\n",
    "- MCV\n",
    "- Age\n",
    "- Sex\n",
    "- Source\n",
    "\n",
    "\n",
    "## Importing Python libaries that will be used for data cleaning and machine learning"
   ]
  },
  {
   "cell_type": "code",
   "execution_count": 1,
   "id": "992e2a35",
   "metadata": {},
   "outputs": [],
   "source": [
    "import numpy as np\n",
    "import pandas as pd\n",
    "import seaborn as sns\n",
    "import matplotlib\n",
    "import matplotlib.pyplot as plt\n",
    "from scipy import stats\n",
    "from sklearn import linear_model"
   ]
  },
  {
   "cell_type": "markdown",
   "id": "0c486b2d",
   "metadata": {},
   "source": [
    "# Data Preparation and Cleaning"
   ]
  },
  {
   "cell_type": "code",
   "execution_count": 2,
   "id": "af483a35",
   "metadata": {},
   "outputs": [
    {
     "data": {
      "text/html": [
       "<div>\n",
       "<style scoped>\n",
       "    .dataframe tbody tr th:only-of-type {\n",
       "        vertical-align: middle;\n",
       "    }\n",
       "\n",
       "    .dataframe tbody tr th {\n",
       "        vertical-align: top;\n",
       "    }\n",
       "\n",
       "    .dataframe thead th {\n",
       "        text-align: right;\n",
       "    }\n",
       "</style>\n",
       "<table border=\"1\" class=\"dataframe\">\n",
       "  <thead>\n",
       "    <tr style=\"text-align: right;\">\n",
       "      <th></th>\n",
       "      <th>HAEMATOCRIT</th>\n",
       "      <th>HAEMOGLOBINS</th>\n",
       "      <th>ERYTHROCYTE</th>\n",
       "      <th>LEUCOCYTE</th>\n",
       "      <th>THROMBOCYTE</th>\n",
       "      <th>MCH</th>\n",
       "      <th>MCHC</th>\n",
       "      <th>MCV</th>\n",
       "      <th>AGE</th>\n",
       "      <th>SEX</th>\n",
       "      <th>SOURCE</th>\n",
       "    </tr>\n",
       "  </thead>\n",
       "  <tbody>\n",
       "    <tr>\n",
       "      <th>0</th>\n",
       "      <td>35.1</td>\n",
       "      <td>11.8</td>\n",
       "      <td>4.65</td>\n",
       "      <td>6.3</td>\n",
       "      <td>310</td>\n",
       "      <td>25.4</td>\n",
       "      <td>33.6</td>\n",
       "      <td>75.5</td>\n",
       "      <td>1</td>\n",
       "      <td>F</td>\n",
       "      <td>out</td>\n",
       "    </tr>\n",
       "    <tr>\n",
       "      <th>1</th>\n",
       "      <td>43.5</td>\n",
       "      <td>14.8</td>\n",
       "      <td>5.39</td>\n",
       "      <td>12.7</td>\n",
       "      <td>334</td>\n",
       "      <td>27.5</td>\n",
       "      <td>34.0</td>\n",
       "      <td>80.7</td>\n",
       "      <td>1</td>\n",
       "      <td>F</td>\n",
       "      <td>out</td>\n",
       "    </tr>\n",
       "    <tr>\n",
       "      <th>2</th>\n",
       "      <td>33.5</td>\n",
       "      <td>11.3</td>\n",
       "      <td>4.74</td>\n",
       "      <td>13.2</td>\n",
       "      <td>305</td>\n",
       "      <td>23.8</td>\n",
       "      <td>33.7</td>\n",
       "      <td>70.7</td>\n",
       "      <td>1</td>\n",
       "      <td>F</td>\n",
       "      <td>out</td>\n",
       "    </tr>\n",
       "    <tr>\n",
       "      <th>3</th>\n",
       "      <td>39.1</td>\n",
       "      <td>13.7</td>\n",
       "      <td>4.98</td>\n",
       "      <td>10.5</td>\n",
       "      <td>366</td>\n",
       "      <td>27.5</td>\n",
       "      <td>35.0</td>\n",
       "      <td>78.5</td>\n",
       "      <td>1</td>\n",
       "      <td>F</td>\n",
       "      <td>out</td>\n",
       "    </tr>\n",
       "    <tr>\n",
       "      <th>4</th>\n",
       "      <td>30.9</td>\n",
       "      <td>9.9</td>\n",
       "      <td>4.23</td>\n",
       "      <td>22.1</td>\n",
       "      <td>333</td>\n",
       "      <td>23.4</td>\n",
       "      <td>32.0</td>\n",
       "      <td>73.0</td>\n",
       "      <td>1</td>\n",
       "      <td>M</td>\n",
       "      <td>out</td>\n",
       "    </tr>\n",
       "    <tr>\n",
       "      <th>...</th>\n",
       "      <td>...</td>\n",
       "      <td>...</td>\n",
       "      <td>...</td>\n",
       "      <td>...</td>\n",
       "      <td>...</td>\n",
       "      <td>...</td>\n",
       "      <td>...</td>\n",
       "      <td>...</td>\n",
       "      <td>...</td>\n",
       "      <td>...</td>\n",
       "      <td>...</td>\n",
       "    </tr>\n",
       "    <tr>\n",
       "      <th>4407</th>\n",
       "      <td>32.8</td>\n",
       "      <td>10.4</td>\n",
       "      <td>3.49</td>\n",
       "      <td>8.1</td>\n",
       "      <td>72</td>\n",
       "      <td>29.8</td>\n",
       "      <td>31.7</td>\n",
       "      <td>94.0</td>\n",
       "      <td>92</td>\n",
       "      <td>F</td>\n",
       "      <td>in</td>\n",
       "    </tr>\n",
       "    <tr>\n",
       "      <th>4408</th>\n",
       "      <td>33.7</td>\n",
       "      <td>10.8</td>\n",
       "      <td>3.67</td>\n",
       "      <td>6.7</td>\n",
       "      <td>70</td>\n",
       "      <td>29.4</td>\n",
       "      <td>32.0</td>\n",
       "      <td>91.8</td>\n",
       "      <td>92</td>\n",
       "      <td>F</td>\n",
       "      <td>in</td>\n",
       "    </tr>\n",
       "    <tr>\n",
       "      <th>4409</th>\n",
       "      <td>33.2</td>\n",
       "      <td>11.2</td>\n",
       "      <td>3.47</td>\n",
       "      <td>7.2</td>\n",
       "      <td>235</td>\n",
       "      <td>32.3</td>\n",
       "      <td>33.7</td>\n",
       "      <td>95.7</td>\n",
       "      <td>93</td>\n",
       "      <td>F</td>\n",
       "      <td>out</td>\n",
       "    </tr>\n",
       "    <tr>\n",
       "      <th>4410</th>\n",
       "      <td>31.5</td>\n",
       "      <td>10.4</td>\n",
       "      <td>3.15</td>\n",
       "      <td>9.1</td>\n",
       "      <td>187</td>\n",
       "      <td>33.0</td>\n",
       "      <td>33.0</td>\n",
       "      <td>100.0</td>\n",
       "      <td>98</td>\n",
       "      <td>F</td>\n",
       "      <td>in</td>\n",
       "    </tr>\n",
       "    <tr>\n",
       "      <th>4411</th>\n",
       "      <td>33.5</td>\n",
       "      <td>10.9</td>\n",
       "      <td>3.44</td>\n",
       "      <td>5.8</td>\n",
       "      <td>275</td>\n",
       "      <td>31.7</td>\n",
       "      <td>32.5</td>\n",
       "      <td>97.4</td>\n",
       "      <td>99</td>\n",
       "      <td>F</td>\n",
       "      <td>out</td>\n",
       "    </tr>\n",
       "  </tbody>\n",
       "</table>\n",
       "<p>4412 rows × 11 columns</p>\n",
       "</div>"
      ],
      "text/plain": [
       "      HAEMATOCRIT  HAEMOGLOBINS  ERYTHROCYTE  LEUCOCYTE  THROMBOCYTE   MCH  \\\n",
       "0            35.1          11.8         4.65        6.3          310  25.4   \n",
       "1            43.5          14.8         5.39       12.7          334  27.5   \n",
       "2            33.5          11.3         4.74       13.2          305  23.8   \n",
       "3            39.1          13.7         4.98       10.5          366  27.5   \n",
       "4            30.9           9.9         4.23       22.1          333  23.4   \n",
       "...           ...           ...          ...        ...          ...   ...   \n",
       "4407         32.8          10.4         3.49        8.1           72  29.8   \n",
       "4408         33.7          10.8         3.67        6.7           70  29.4   \n",
       "4409         33.2          11.2         3.47        7.2          235  32.3   \n",
       "4410         31.5          10.4         3.15        9.1          187  33.0   \n",
       "4411         33.5          10.9         3.44        5.8          275  31.7   \n",
       "\n",
       "      MCHC    MCV  AGE SEX SOURCE  \n",
       "0     33.6   75.5    1   F    out  \n",
       "1     34.0   80.7    1   F    out  \n",
       "2     33.7   70.7    1   F    out  \n",
       "3     35.0   78.5    1   F    out  \n",
       "4     32.0   73.0    1   M    out  \n",
       "...    ...    ...  ...  ..    ...  \n",
       "4407  31.7   94.0   92   F     in  \n",
       "4408  32.0   91.8   92   F     in  \n",
       "4409  33.7   95.7   93   F    out  \n",
       "4410  33.0  100.0   98   F     in  \n",
       "4411  32.5   97.4   99   F    out  \n",
       "\n",
       "[4412 rows x 11 columns]"
      ]
     },
     "execution_count": 2,
     "metadata": {},
     "output_type": "execute_result"
    }
   ],
   "source": [
    "raw_data = pd.read_csv(r'data-ori.csv')\n",
    "raw_data # Loading the dataset into the jupyter notebook(work space)"
   ]
  },
  {
   "cell_type": "code",
   "execution_count": 3,
   "id": "963d0101",
   "metadata": {},
   "outputs": [
    {
     "data": {
      "text/html": [
       "<div>\n",
       "<style scoped>\n",
       "    .dataframe tbody tr th:only-of-type {\n",
       "        vertical-align: middle;\n",
       "    }\n",
       "\n",
       "    .dataframe tbody tr th {\n",
       "        vertical-align: top;\n",
       "    }\n",
       "\n",
       "    .dataframe thead th {\n",
       "        text-align: right;\n",
       "    }\n",
       "</style>\n",
       "<table border=\"1\" class=\"dataframe\">\n",
       "  <thead>\n",
       "    <tr style=\"text-align: right;\">\n",
       "      <th></th>\n",
       "      <th>HAEMATOCRIT</th>\n",
       "      <th>HAEMOGLOBINS</th>\n",
       "      <th>ERYTHROCYTE</th>\n",
       "      <th>LEUCOCYTE</th>\n",
       "      <th>THROMBOCYTE</th>\n",
       "      <th>MCH</th>\n",
       "      <th>MCHC</th>\n",
       "      <th>MCV</th>\n",
       "      <th>AGE</th>\n",
       "      <th>SEX</th>\n",
       "      <th>SOURCE</th>\n",
       "    </tr>\n",
       "  </thead>\n",
       "  <tbody>\n",
       "    <tr>\n",
       "      <th>0</th>\n",
       "      <td>35.1</td>\n",
       "      <td>11.8</td>\n",
       "      <td>4.65</td>\n",
       "      <td>6.3</td>\n",
       "      <td>310</td>\n",
       "      <td>25.4</td>\n",
       "      <td>33.6</td>\n",
       "      <td>75.5</td>\n",
       "      <td>1</td>\n",
       "      <td>F</td>\n",
       "      <td>out</td>\n",
       "    </tr>\n",
       "    <tr>\n",
       "      <th>1</th>\n",
       "      <td>43.5</td>\n",
       "      <td>14.8</td>\n",
       "      <td>5.39</td>\n",
       "      <td>12.7</td>\n",
       "      <td>334</td>\n",
       "      <td>27.5</td>\n",
       "      <td>34.0</td>\n",
       "      <td>80.7</td>\n",
       "      <td>1</td>\n",
       "      <td>F</td>\n",
       "      <td>out</td>\n",
       "    </tr>\n",
       "    <tr>\n",
       "      <th>2</th>\n",
       "      <td>33.5</td>\n",
       "      <td>11.3</td>\n",
       "      <td>4.74</td>\n",
       "      <td>13.2</td>\n",
       "      <td>305</td>\n",
       "      <td>23.8</td>\n",
       "      <td>33.7</td>\n",
       "      <td>70.7</td>\n",
       "      <td>1</td>\n",
       "      <td>F</td>\n",
       "      <td>out</td>\n",
       "    </tr>\n",
       "    <tr>\n",
       "      <th>3</th>\n",
       "      <td>39.1</td>\n",
       "      <td>13.7</td>\n",
       "      <td>4.98</td>\n",
       "      <td>10.5</td>\n",
       "      <td>366</td>\n",
       "      <td>27.5</td>\n",
       "      <td>35.0</td>\n",
       "      <td>78.5</td>\n",
       "      <td>1</td>\n",
       "      <td>F</td>\n",
       "      <td>out</td>\n",
       "    </tr>\n",
       "    <tr>\n",
       "      <th>4</th>\n",
       "      <td>30.9</td>\n",
       "      <td>9.9</td>\n",
       "      <td>4.23</td>\n",
       "      <td>22.1</td>\n",
       "      <td>333</td>\n",
       "      <td>23.4</td>\n",
       "      <td>32.0</td>\n",
       "      <td>73.0</td>\n",
       "      <td>1</td>\n",
       "      <td>M</td>\n",
       "      <td>out</td>\n",
       "    </tr>\n",
       "    <tr>\n",
       "      <th>...</th>\n",
       "      <td>...</td>\n",
       "      <td>...</td>\n",
       "      <td>...</td>\n",
       "      <td>...</td>\n",
       "      <td>...</td>\n",
       "      <td>...</td>\n",
       "      <td>...</td>\n",
       "      <td>...</td>\n",
       "      <td>...</td>\n",
       "      <td>...</td>\n",
       "      <td>...</td>\n",
       "    </tr>\n",
       "    <tr>\n",
       "      <th>4407</th>\n",
       "      <td>32.8</td>\n",
       "      <td>10.4</td>\n",
       "      <td>3.49</td>\n",
       "      <td>8.1</td>\n",
       "      <td>72</td>\n",
       "      <td>29.8</td>\n",
       "      <td>31.7</td>\n",
       "      <td>94.0</td>\n",
       "      <td>92</td>\n",
       "      <td>F</td>\n",
       "      <td>in</td>\n",
       "    </tr>\n",
       "    <tr>\n",
       "      <th>4408</th>\n",
       "      <td>33.7</td>\n",
       "      <td>10.8</td>\n",
       "      <td>3.67</td>\n",
       "      <td>6.7</td>\n",
       "      <td>70</td>\n",
       "      <td>29.4</td>\n",
       "      <td>32.0</td>\n",
       "      <td>91.8</td>\n",
       "      <td>92</td>\n",
       "      <td>F</td>\n",
       "      <td>in</td>\n",
       "    </tr>\n",
       "    <tr>\n",
       "      <th>4409</th>\n",
       "      <td>33.2</td>\n",
       "      <td>11.2</td>\n",
       "      <td>3.47</td>\n",
       "      <td>7.2</td>\n",
       "      <td>235</td>\n",
       "      <td>32.3</td>\n",
       "      <td>33.7</td>\n",
       "      <td>95.7</td>\n",
       "      <td>93</td>\n",
       "      <td>F</td>\n",
       "      <td>out</td>\n",
       "    </tr>\n",
       "    <tr>\n",
       "      <th>4410</th>\n",
       "      <td>31.5</td>\n",
       "      <td>10.4</td>\n",
       "      <td>3.15</td>\n",
       "      <td>9.1</td>\n",
       "      <td>187</td>\n",
       "      <td>33.0</td>\n",
       "      <td>33.0</td>\n",
       "      <td>100.0</td>\n",
       "      <td>98</td>\n",
       "      <td>F</td>\n",
       "      <td>in</td>\n",
       "    </tr>\n",
       "    <tr>\n",
       "      <th>4411</th>\n",
       "      <td>33.5</td>\n",
       "      <td>10.9</td>\n",
       "      <td>3.44</td>\n",
       "      <td>5.8</td>\n",
       "      <td>275</td>\n",
       "      <td>31.7</td>\n",
       "      <td>32.5</td>\n",
       "      <td>97.4</td>\n",
       "      <td>99</td>\n",
       "      <td>F</td>\n",
       "      <td>out</td>\n",
       "    </tr>\n",
       "  </tbody>\n",
       "</table>\n",
       "<p>4412 rows × 11 columns</p>\n",
       "</div>"
      ],
      "text/plain": [
       "      HAEMATOCRIT  HAEMOGLOBINS  ERYTHROCYTE  LEUCOCYTE  THROMBOCYTE   MCH  \\\n",
       "0            35.1          11.8         4.65        6.3          310  25.4   \n",
       "1            43.5          14.8         5.39       12.7          334  27.5   \n",
       "2            33.5          11.3         4.74       13.2          305  23.8   \n",
       "3            39.1          13.7         4.98       10.5          366  27.5   \n",
       "4            30.9           9.9         4.23       22.1          333  23.4   \n",
       "...           ...           ...          ...        ...          ...   ...   \n",
       "4407         32.8          10.4         3.49        8.1           72  29.8   \n",
       "4408         33.7          10.8         3.67        6.7           70  29.4   \n",
       "4409         33.2          11.2         3.47        7.2          235  32.3   \n",
       "4410         31.5          10.4         3.15        9.1          187  33.0   \n",
       "4411         33.5          10.9         3.44        5.8          275  31.7   \n",
       "\n",
       "      MCHC    MCV  AGE SEX SOURCE  \n",
       "0     33.6   75.5    1   F    out  \n",
       "1     34.0   80.7    1   F    out  \n",
       "2     33.7   70.7    1   F    out  \n",
       "3     35.0   78.5    1   F    out  \n",
       "4     32.0   73.0    1   M    out  \n",
       "...    ...    ...  ...  ..    ...  \n",
       "4407  31.7   94.0   92   F     in  \n",
       "4408  32.0   91.8   92   F     in  \n",
       "4409  33.7   95.7   93   F    out  \n",
       "4410  33.0  100.0   98   F     in  \n",
       "4411  32.5   97.4   99   F    out  \n",
       "\n",
       "[4412 rows x 11 columns]"
      ]
     },
     "execution_count": 3,
     "metadata": {},
     "output_type": "execute_result"
    }
   ],
   "source": [
    "data = raw_data.copy() # making a copy of the original loaded dataet \n",
    "data"
   ]
  },
  {
   "cell_type": "code",
   "execution_count": 4,
   "id": "79424fd2",
   "metadata": {},
   "outputs": [
    {
     "data": {
      "text/plain": [
       "Index(['HAEMATOCRIT', 'HAEMOGLOBINS', 'ERYTHROCYTE', 'LEUCOCYTE',\n",
       "       'THROMBOCYTE', 'MCH', 'MCHC', 'MCV', 'AGE', 'SEX', 'SOURCE'],\n",
       "      dtype='object')"
      ]
     },
     "execution_count": 4,
     "metadata": {},
     "output_type": "execute_result"
    }
   ],
   "source": [
    "data.columns # Checking the names of each column"
   ]
  },
  {
   "cell_type": "code",
   "execution_count": 5,
   "id": "cb4685cb",
   "metadata": {},
   "outputs": [
    {
     "data": {
      "text/plain": [
       "(4412, 11)"
      ]
     },
     "execution_count": 5,
     "metadata": {},
     "output_type": "execute_result"
    }
   ],
   "source": [
    "data.shape # Checking the number of rows and columns"
   ]
  },
  {
   "cell_type": "code",
   "execution_count": 6,
   "id": "30372b18",
   "metadata": {},
   "outputs": [
    {
     "data": {
      "text/plain": [
       "0"
      ]
     },
     "execution_count": 6,
     "metadata": {},
     "output_type": "execute_result"
    }
   ],
   "source": [
    "data.duplicated().sum() # Checking for duplicated rows(repeated datas) in th dataset"
   ]
  },
  {
   "cell_type": "code",
   "execution_count": 7,
   "id": "12d1aa0d",
   "metadata": {},
   "outputs": [
    {
     "data": {
      "text/plain": [
       "HAEMATOCRIT     0\n",
       "HAEMOGLOBINS    0\n",
       "ERYTHROCYTE     0\n",
       "LEUCOCYTE       0\n",
       "THROMBOCYTE     0\n",
       "MCH             0\n",
       "MCHC            0\n",
       "MCV             0\n",
       "AGE             0\n",
       "SEX             0\n",
       "SOURCE          0\n",
       "dtype: int64"
      ]
     },
     "execution_count": 7,
     "metadata": {},
     "output_type": "execute_result"
    }
   ],
   "source": [
    "data.isnull().sum() # Checking for null values in the dataset"
   ]
  },
  {
   "cell_type": "code",
   "execution_count": 8,
   "id": "6ecb6646",
   "metadata": {},
   "outputs": [
    {
     "name": "stdout",
     "output_type": "stream",
     "text": [
      "<class 'pandas.core.frame.DataFrame'>\n",
      "RangeIndex: 4412 entries, 0 to 4411\n",
      "Data columns (total 11 columns):\n",
      " #   Column        Non-Null Count  Dtype  \n",
      "---  ------        --------------  -----  \n",
      " 0   HAEMATOCRIT   4412 non-null   float64\n",
      " 1   HAEMOGLOBINS  4412 non-null   float64\n",
      " 2   ERYTHROCYTE   4412 non-null   float64\n",
      " 3   LEUCOCYTE     4412 non-null   float64\n",
      " 4   THROMBOCYTE   4412 non-null   int64  \n",
      " 5   MCH           4412 non-null   float64\n",
      " 6   MCHC          4412 non-null   float64\n",
      " 7   MCV           4412 non-null   float64\n",
      " 8   AGE           4412 non-null   int64  \n",
      " 9   SEX           4412 non-null   object \n",
      " 10  SOURCE        4412 non-null   object \n",
      "dtypes: float64(7), int64(2), object(2)\n",
      "memory usage: 379.3+ KB\n"
     ]
    }
   ],
   "source": [
    "data.info() # Summary of the datas in the dataset"
   ]
  },
  {
   "cell_type": "code",
   "execution_count": 9,
   "id": "1d6dec7f",
   "metadata": {},
   "outputs": [],
   "source": [
    "# Changing the datatypes of these columns to the appropriate ones\n",
    "\n",
    "data['SEX'] = data['SEX'].astype('category')\n",
    "data['SOURCE'] = data['SOURCE'].astype('category')"
   ]
  },
  {
   "cell_type": "code",
   "execution_count": 10,
   "id": "ddbaa7f5",
   "metadata": {},
   "outputs": [
    {
     "data": {
      "text/plain": [
       "HAEMATOCRIT      float64\n",
       "HAEMOGLOBINS     float64\n",
       "ERYTHROCYTE      float64\n",
       "LEUCOCYTE        float64\n",
       "THROMBOCYTE        int64\n",
       "MCH              float64\n",
       "MCHC             float64\n",
       "MCV              float64\n",
       "AGE                int64\n",
       "SEX             category\n",
       "SOURCE          category\n",
       "dtype: object"
      ]
     },
     "execution_count": 10,
     "metadata": {},
     "output_type": "execute_result"
    }
   ],
   "source": [
    "data.dtypes # Datatypes of each columns"
   ]
  },
  {
   "cell_type": "code",
   "execution_count": 11,
   "id": "ef07cb93",
   "metadata": {},
   "outputs": [
    {
     "data": {
      "text/html": [
       "<div>\n",
       "<style scoped>\n",
       "    .dataframe tbody tr th:only-of-type {\n",
       "        vertical-align: middle;\n",
       "    }\n",
       "\n",
       "    .dataframe tbody tr th {\n",
       "        vertical-align: top;\n",
       "    }\n",
       "\n",
       "    .dataframe thead th {\n",
       "        text-align: right;\n",
       "    }\n",
       "</style>\n",
       "<table border=\"1\" class=\"dataframe\">\n",
       "  <thead>\n",
       "    <tr style=\"text-align: right;\">\n",
       "      <th></th>\n",
       "      <th>HAEMATOCRIT</th>\n",
       "      <th>HAEMOGLOBINS</th>\n",
       "      <th>ERYTHROCYTE</th>\n",
       "      <th>LEUCOCYTE</th>\n",
       "      <th>THROMBOCYTE</th>\n",
       "      <th>MCH</th>\n",
       "      <th>MCHC</th>\n",
       "      <th>MCV</th>\n",
       "      <th>AGE</th>\n",
       "    </tr>\n",
       "  </thead>\n",
       "  <tbody>\n",
       "    <tr>\n",
       "      <th>count</th>\n",
       "      <td>4412.000000</td>\n",
       "      <td>4412.000000</td>\n",
       "      <td>4412.000000</td>\n",
       "      <td>4412.000000</td>\n",
       "      <td>4412.000000</td>\n",
       "      <td>4412.000000</td>\n",
       "      <td>4412.000000</td>\n",
       "      <td>4412.000000</td>\n",
       "      <td>4412.000000</td>\n",
       "    </tr>\n",
       "    <tr>\n",
       "      <th>mean</th>\n",
       "      <td>38.197688</td>\n",
       "      <td>12.741727</td>\n",
       "      <td>4.541260</td>\n",
       "      <td>8.718608</td>\n",
       "      <td>257.524479</td>\n",
       "      <td>28.234701</td>\n",
       "      <td>33.343042</td>\n",
       "      <td>84.612942</td>\n",
       "      <td>46.626473</td>\n",
       "    </tr>\n",
       "    <tr>\n",
       "      <th>std</th>\n",
       "      <td>5.974784</td>\n",
       "      <td>2.079903</td>\n",
       "      <td>0.784091</td>\n",
       "      <td>5.049041</td>\n",
       "      <td>113.972365</td>\n",
       "      <td>2.672639</td>\n",
       "      <td>1.228664</td>\n",
       "      <td>6.859101</td>\n",
       "      <td>21.731218</td>\n",
       "    </tr>\n",
       "    <tr>\n",
       "      <th>min</th>\n",
       "      <td>13.700000</td>\n",
       "      <td>3.800000</td>\n",
       "      <td>1.480000</td>\n",
       "      <td>1.100000</td>\n",
       "      <td>8.000000</td>\n",
       "      <td>14.900000</td>\n",
       "      <td>26.000000</td>\n",
       "      <td>54.000000</td>\n",
       "      <td>1.000000</td>\n",
       "    </tr>\n",
       "    <tr>\n",
       "      <th>25%</th>\n",
       "      <td>34.375000</td>\n",
       "      <td>11.400000</td>\n",
       "      <td>4.040000</td>\n",
       "      <td>5.675000</td>\n",
       "      <td>188.000000</td>\n",
       "      <td>27.200000</td>\n",
       "      <td>32.700000</td>\n",
       "      <td>81.500000</td>\n",
       "      <td>29.000000</td>\n",
       "    </tr>\n",
       "    <tr>\n",
       "      <th>50%</th>\n",
       "      <td>38.600000</td>\n",
       "      <td>12.900000</td>\n",
       "      <td>4.570000</td>\n",
       "      <td>7.600000</td>\n",
       "      <td>256.000000</td>\n",
       "      <td>28.700000</td>\n",
       "      <td>33.400000</td>\n",
       "      <td>85.400000</td>\n",
       "      <td>47.000000</td>\n",
       "    </tr>\n",
       "    <tr>\n",
       "      <th>75%</th>\n",
       "      <td>42.500000</td>\n",
       "      <td>14.200000</td>\n",
       "      <td>5.050000</td>\n",
       "      <td>10.300000</td>\n",
       "      <td>321.000000</td>\n",
       "      <td>29.800000</td>\n",
       "      <td>34.100000</td>\n",
       "      <td>88.700000</td>\n",
       "      <td>64.000000</td>\n",
       "    </tr>\n",
       "    <tr>\n",
       "      <th>max</th>\n",
       "      <td>69.000000</td>\n",
       "      <td>18.900000</td>\n",
       "      <td>7.860000</td>\n",
       "      <td>76.600000</td>\n",
       "      <td>1183.000000</td>\n",
       "      <td>40.800000</td>\n",
       "      <td>39.000000</td>\n",
       "      <td>115.600000</td>\n",
       "      <td>99.000000</td>\n",
       "    </tr>\n",
       "  </tbody>\n",
       "</table>\n",
       "</div>"
      ],
      "text/plain": [
       "       HAEMATOCRIT  HAEMOGLOBINS  ERYTHROCYTE    LEUCOCYTE  THROMBOCYTE  \\\n",
       "count  4412.000000   4412.000000  4412.000000  4412.000000  4412.000000   \n",
       "mean     38.197688     12.741727     4.541260     8.718608   257.524479   \n",
       "std       5.974784      2.079903     0.784091     5.049041   113.972365   \n",
       "min      13.700000      3.800000     1.480000     1.100000     8.000000   \n",
       "25%      34.375000     11.400000     4.040000     5.675000   188.000000   \n",
       "50%      38.600000     12.900000     4.570000     7.600000   256.000000   \n",
       "75%      42.500000     14.200000     5.050000    10.300000   321.000000   \n",
       "max      69.000000     18.900000     7.860000    76.600000  1183.000000   \n",
       "\n",
       "               MCH         MCHC          MCV          AGE  \n",
       "count  4412.000000  4412.000000  4412.000000  4412.000000  \n",
       "mean     28.234701    33.343042    84.612942    46.626473  \n",
       "std       2.672639     1.228664     6.859101    21.731218  \n",
       "min      14.900000    26.000000    54.000000     1.000000  \n",
       "25%      27.200000    32.700000    81.500000    29.000000  \n",
       "50%      28.700000    33.400000    85.400000    47.000000  \n",
       "75%      29.800000    34.100000    88.700000    64.000000  \n",
       "max      40.800000    39.000000   115.600000    99.000000  "
      ]
     },
     "execution_count": 11,
     "metadata": {},
     "output_type": "execute_result"
    }
   ],
   "source": [
    "data.describe() # Statistical summary of the dataset"
   ]
  },
  {
   "cell_type": "code",
   "execution_count": 12,
   "id": "027fd02e",
   "metadata": {},
   "outputs": [],
   "source": [
    "matplotlib.rcParams['font.size'] = 14\n",
    "matplotlib.rcParams['figure.figsize'] = (14,7)"
   ]
  },
  {
   "cell_type": "code",
   "execution_count": 13,
   "id": "af688144",
   "metadata": {},
   "outputs": [
    {
     "data": {
      "text/html": [
       "<div>\n",
       "<style scoped>\n",
       "    .dataframe tbody tr th:only-of-type {\n",
       "        vertical-align: middle;\n",
       "    }\n",
       "\n",
       "    .dataframe tbody tr th {\n",
       "        vertical-align: top;\n",
       "    }\n",
       "\n",
       "    .dataframe thead th {\n",
       "        text-align: right;\n",
       "    }\n",
       "</style>\n",
       "<table border=\"1\" class=\"dataframe\">\n",
       "  <thead>\n",
       "    <tr style=\"text-align: right;\">\n",
       "      <th></th>\n",
       "      <th>HAEMATOCRIT</th>\n",
       "      <th>HAEMOGLOBINS</th>\n",
       "      <th>ERYTHROCYTE</th>\n",
       "      <th>LEUCOCYTE</th>\n",
       "      <th>THROMBOCYTE</th>\n",
       "      <th>MCH</th>\n",
       "      <th>MCHC</th>\n",
       "      <th>MCV</th>\n",
       "      <th>AGE</th>\n",
       "    </tr>\n",
       "  </thead>\n",
       "  <tbody>\n",
       "    <tr>\n",
       "      <th>HAEMATOCRIT</th>\n",
       "      <td>1.000000</td>\n",
       "      <td>0.973267</td>\n",
       "      <td>0.864989</td>\n",
       "      <td>-0.217218</td>\n",
       "      <td>-0.003562</td>\n",
       "      <td>0.083714</td>\n",
       "      <td>0.108098</td>\n",
       "      <td>0.054948</td>\n",
       "      <td>-0.254799</td>\n",
       "    </tr>\n",
       "    <tr>\n",
       "      <th>HAEMOGLOBINS</th>\n",
       "      <td>0.973267</td>\n",
       "      <td>1.000000</td>\n",
       "      <td>0.818013</td>\n",
       "      <td>-0.208583</td>\n",
       "      <td>-0.045441</td>\n",
       "      <td>0.203248</td>\n",
       "      <td>0.314159</td>\n",
       "      <td>0.105379</td>\n",
       "      <td>-0.239480</td>\n",
       "    </tr>\n",
       "    <tr>\n",
       "      <th>ERYTHROCYTE</th>\n",
       "      <td>0.864989</td>\n",
       "      <td>0.818013</td>\n",
       "      <td>1.000000</td>\n",
       "      <td>-0.186711</td>\n",
       "      <td>0.025879</td>\n",
       "      <td>-0.383666</td>\n",
       "      <td>-0.048313</td>\n",
       "      <td>-0.436041</td>\n",
       "      <td>-0.412858</td>\n",
       "    </tr>\n",
       "    <tr>\n",
       "      <th>LEUCOCYTE</th>\n",
       "      <td>-0.217218</td>\n",
       "      <td>-0.208583</td>\n",
       "      <td>-0.186711</td>\n",
       "      <td>1.000000</td>\n",
       "      <td>0.283262</td>\n",
       "      <td>-0.014840</td>\n",
       "      <td>0.003194</td>\n",
       "      <td>-0.015885</td>\n",
       "      <td>0.191987</td>\n",
       "    </tr>\n",
       "    <tr>\n",
       "      <th>THROMBOCYTE</th>\n",
       "      <td>-0.003562</td>\n",
       "      <td>-0.045441</td>\n",
       "      <td>0.025879</td>\n",
       "      <td>0.283262</td>\n",
       "      <td>1.000000</td>\n",
       "      <td>-0.138058</td>\n",
       "      <td>-0.198921</td>\n",
       "      <td>-0.075961</td>\n",
       "      <td>0.031064</td>\n",
       "    </tr>\n",
       "    <tr>\n",
       "      <th>MCH</th>\n",
       "      <td>0.083714</td>\n",
       "      <td>0.203248</td>\n",
       "      <td>-0.383666</td>\n",
       "      <td>-0.014840</td>\n",
       "      <td>-0.138058</td>\n",
       "      <td>1.000000</td>\n",
       "      <td>0.589830</td>\n",
       "      <td>0.931804</td>\n",
       "      <td>0.350166</td>\n",
       "    </tr>\n",
       "    <tr>\n",
       "      <th>MCHC</th>\n",
       "      <td>0.108098</td>\n",
       "      <td>0.314159</td>\n",
       "      <td>-0.048313</td>\n",
       "      <td>0.003194</td>\n",
       "      <td>-0.198921</td>\n",
       "      <td>0.589830</td>\n",
       "      <td>1.000000</td>\n",
       "      <td>0.259672</td>\n",
       "      <td>0.041741</td>\n",
       "    </tr>\n",
       "    <tr>\n",
       "      <th>MCV</th>\n",
       "      <td>0.054948</td>\n",
       "      <td>0.105379</td>\n",
       "      <td>-0.436041</td>\n",
       "      <td>-0.015885</td>\n",
       "      <td>-0.075961</td>\n",
       "      <td>0.931804</td>\n",
       "      <td>0.259672</td>\n",
       "      <td>1.000000</td>\n",
       "      <td>0.395380</td>\n",
       "    </tr>\n",
       "    <tr>\n",
       "      <th>AGE</th>\n",
       "      <td>-0.254799</td>\n",
       "      <td>-0.239480</td>\n",
       "      <td>-0.412858</td>\n",
       "      <td>0.191987</td>\n",
       "      <td>0.031064</td>\n",
       "      <td>0.350166</td>\n",
       "      <td>0.041741</td>\n",
       "      <td>0.395380</td>\n",
       "      <td>1.000000</td>\n",
       "    </tr>\n",
       "  </tbody>\n",
       "</table>\n",
       "</div>"
      ],
      "text/plain": [
       "              HAEMATOCRIT  HAEMOGLOBINS  ERYTHROCYTE  LEUCOCYTE  THROMBOCYTE  \\\n",
       "HAEMATOCRIT      1.000000      0.973267     0.864989  -0.217218    -0.003562   \n",
       "HAEMOGLOBINS     0.973267      1.000000     0.818013  -0.208583    -0.045441   \n",
       "ERYTHROCYTE      0.864989      0.818013     1.000000  -0.186711     0.025879   \n",
       "LEUCOCYTE       -0.217218     -0.208583    -0.186711   1.000000     0.283262   \n",
       "THROMBOCYTE     -0.003562     -0.045441     0.025879   0.283262     1.000000   \n",
       "MCH              0.083714      0.203248    -0.383666  -0.014840    -0.138058   \n",
       "MCHC             0.108098      0.314159    -0.048313   0.003194    -0.198921   \n",
       "MCV              0.054948      0.105379    -0.436041  -0.015885    -0.075961   \n",
       "AGE             -0.254799     -0.239480    -0.412858   0.191987     0.031064   \n",
       "\n",
       "                   MCH      MCHC       MCV       AGE  \n",
       "HAEMATOCRIT   0.083714  0.108098  0.054948 -0.254799  \n",
       "HAEMOGLOBINS  0.203248  0.314159  0.105379 -0.239480  \n",
       "ERYTHROCYTE  -0.383666 -0.048313 -0.436041 -0.412858  \n",
       "LEUCOCYTE    -0.014840  0.003194 -0.015885  0.191987  \n",
       "THROMBOCYTE  -0.138058 -0.198921 -0.075961  0.031064  \n",
       "MCH           1.000000  0.589830  0.931804  0.350166  \n",
       "MCHC          0.589830  1.000000  0.259672  0.041741  \n",
       "MCV           0.931804  0.259672  1.000000  0.395380  \n",
       "AGE           0.350166  0.041741  0.395380  1.000000  "
      ]
     },
     "execution_count": 13,
     "metadata": {},
     "output_type": "execute_result"
    }
   ],
   "source": [
    "data.corr(numeric_only=True)"
   ]
  },
  {
   "cell_type": "code",
   "execution_count": 14,
   "id": "81eca3c4",
   "metadata": {},
   "outputs": [
    {
     "data": {
      "image/png": "[encoded data removed]",
      "text/plain": [
       "<Figure size 1400x700 with 1 Axes>"
      ]
     },
     "metadata": {},
     "output_type": "display_data"
    }
   ],
   "source": [
    "plt.hist(data['HAEMATOCRIT'])\n",
    "plt.title('Haematocrit'); # Data distribution"
   ]
  },
  {
   "cell_type": "code",
   "execution_count": 15,
   "id": "3327dc3f",
   "metadata": {},
   "outputs": [
    {
     "data": {
      "image/png": "[encoded data removed]",
      "text/plain": [
       "<Figure size 1400x700 with 1 Axes>"
      ]
     },
     "metadata": {},
     "output_type": "display_data"
    }
   ],
   "source": [
    "plt.scatter(data['HAEMATOCRIT'].head(100), data['HAEMOGLOBINS'].head(100))\n",
    "plt.title('relatonship between haemoglobin and haematocrit')\n",
    "plt.xlabel('Haematocrit')\n",
    "plt.ylabel('Haemoglobin'); # Scatter plot"
   ]
  },
  {
   "cell_type": "markdown",
   "id": "e4737580",
   "metadata": {},
   "source": [
    "# Predictive Modeling of Hematocrit Levels from Haemoglobin Values Using Machine Learning on EHR Data\n",
    "\n",
    "Electronic Health Records (EHR) are a valuable source of patient data that can be leveraged to improve healthcare outcomes through predictive modeling. In this project, we aim to utilize machine learning techniques to predict hematocrit levels based on haemoglobin values. Hematocrit is a crucial parameter that indicates the proportion of red blood cells in blood and is essential for diagnosing various medical conditions.\n",
    "\n",
    "By analyzing a dataset of patient laboratory results, we develop a regression model to make accurate predictions of hematocrit levels. This model can assist healthcare providers in making informed decisions and potentially identifying patients at risk of conditions like anemia or polycythemia.\n",
    "\n",
    "The dataset used in this project includes various blood test results collected from patients at a private hospital in Indonesia. Specifically, we focus on the relationship between haemoglobin and hematocrit, leveraging Python’s data analysis libraries to preprocess and analyze the data.\n",
    "\n",
    "This project demonstrates the power of predictive analytics in healthcare and provides insights into the potential of machine learning to enhance medical diagnostics and patient care.\n",
    "\n",
    "\n",
    "## Linear regression"
   ]
  },
  {
   "cell_type": "code",
   "execution_count": 16,
   "id": "b7eeb0d2",
   "metadata": {},
   "outputs": [
    {
     "data": {
      "image/png": "[encoded data removed]",
      "text/plain": [
       "<Figure size 1400x700 with 1 Axes>"
      ]
     },
     "metadata": {},
     "output_type": "display_data"
    }
   ],
   "source": [
    "sns.regplot(data=data.head(100), x='HAEMATOCRIT', y='HAEMOGLOBINS')\n",
    "plt.title('relationship between haemoglobins and haematocrit')\n",
    "plt.grid(); # scatter plot with line of linear regression"
   ]
  },
  {
   "cell_type": "code",
   "execution_count": 17,
   "id": "65efcba9",
   "metadata": {},
   "outputs": [
    {
     "data": {
      "text/plain": [
       "LinregressResult(slope=0.3072392126025756, intercept=0.8088958535495436, rvalue=0.9507923721920555, pvalue=1.1392103006882374e-51, stderr=0.010113457543776705, intercept_stderr=0.3716328242353413)"
      ]
     },
     "execution_count": 17,
     "metadata": {},
     "output_type": "execute_result"
    }
   ],
   "source": [
    "stats.linregress(data['HAEMATOCRIT'].head(100), data['HAEMOGLOBINS'].head(100)) # x, y"
   ]
  },
  {
   "cell_type": "code",
   "execution_count": 18,
   "id": "bbb1ee8c",
   "metadata": {},
   "outputs": [],
   "source": [
    "slope, intercept, r, p, std_err = stats.linregress(data['HAEMATOCRIT'].head(100), data['HAEMOGLOBINS'].head(100)) # x, y"
   ]
  },
  {
   "cell_type": "code",
   "execution_count": 19,
   "id": "ef22ce1f",
   "metadata": {},
   "outputs": [],
   "source": [
    "def myfunc(x):\n",
    "    return slope*x+intercept # Formular for LINEAR REGRESSION (predict a future value using a single independent variable)"
   ]
  },
  {
   "cell_type": "code",
   "execution_count": 20,
   "id": "03de7a25",
   "metadata": {},
   "outputs": [],
   "source": [
    "mymodel = list(map(myfunc, data['HAEMATOCRIT'].head(100)))"
   ]
  },
  {
   "cell_type": "code",
   "execution_count": 21,
   "id": "d05164ed",
   "metadata": {},
   "outputs": [
    {
     "data": {
      "image/png": "[encoded data removed]",
      "text/plain": [
       "<Figure size 1400x700 with 1 Axes>"
      ]
     },
     "metadata": {},
     "output_type": "display_data"
    }
   ],
   "source": [
    "plt.scatter(data['HAEMATOCRIT'].head(100), data['HAEMOGLOBINS'].head(100))\n",
    "plt.plot(data['HAEMATOCRIT'].head(100), mymodel)\n",
    "plt.ylabel('Haemoglobin')\n",
    "plt.xlabel('Haematocrit')\n",
    "plt.title('Relationship between haemoglobin and haematocrit')\n",
    "plt.grid();"
   ]
  },
  {
   "cell_type": "code",
   "execution_count": 22,
   "id": "43411d54",
   "metadata": {},
   "outputs": [
    {
     "data": {
      "text/plain": [
       "14.63"
      ]
     },
     "execution_count": 22,
     "metadata": {},
     "output_type": "execute_result"
    }
   ],
   "source": [
    "# where x is always X-axis which is haematocrit here\n",
    "haemoglobin_predicted=myfunc(45)\n",
    "round(haemoglobin_predicted,2) # Prediction"
   ]
  },
  {
   "cell_type": "code",
   "execution_count": 23,
   "id": "690a11cd",
   "metadata": {},
   "outputs": [],
   "source": [
    "def prediction_function():\n",
    "    a = int(input('Haematocrit: '))\n",
    "    b = round(myfunc(a),2)\n",
    "    print('Predicted Haemoglobin: {}'.format(b))"
   ]
  },
  {
   "cell_type": "code",
   "execution_count": 24,
   "id": "028424dc",
   "metadata": {},
   "outputs": [
    {
     "name": "stdout",
     "output_type": "stream",
     "text": [
      "Haematocrit: 1\n",
      "Predicted Haemoglobin: 1.12\n"
     ]
    }
   ],
   "source": [
    "prediction_function()"
   ]
  },
  {
   "cell_type": "markdown",
   "id": "9a5cee95",
   "metadata": {},
   "source": [
    "### prediction 1"
   ]
  },
  {
   "cell_type": "code",
   "execution_count": 25,
   "id": "b28e93b9",
   "metadata": {},
   "outputs": [
    {
     "name": "stdout",
     "output_type": "stream",
     "text": [
      "Haematocrit: 57\n",
      "Predicted Haemoglobin: 18.32\n"
     ]
    }
   ],
   "source": [
    "prediction_function()"
   ]
  },
  {
   "cell_type": "markdown",
   "id": "ccc17659",
   "metadata": {},
   "source": [
    "### prediction 2"
   ]
  },
  {
   "cell_type": "code",
   "execution_count": 26,
   "id": "c7586583",
   "metadata": {},
   "outputs": [
    {
     "name": "stdout",
     "output_type": "stream",
     "text": [
      "Haematocrit: 23\n",
      "Predicted Haemoglobin: 7.88\n"
     ]
    }
   ],
   "source": [
    "prediction_function()"
   ]
  },
  {
   "cell_type": "markdown",
   "id": "9cb12858",
   "metadata": {},
   "source": [
    "### prediction 3"
   ]
  },
  {
   "cell_type": "code",
   "execution_count": 27,
   "id": "ec5306d6",
   "metadata": {},
   "outputs": [
    {
     "name": "stdout",
     "output_type": "stream",
     "text": [
      "Haematocrit: 89\n",
      "Predicted Haemoglobin: 28.15\n"
     ]
    }
   ],
   "source": [
    "prediction_function()"
   ]
  },
  {
   "cell_type": "code",
   "execution_count": null,
   "id": "adb0d01f",
   "metadata": {},
   "outputs": [],
   "source": []
  },
  {
   "cell_type": "markdown",
   "id": "00124131",
   "metadata": {},
   "source": [
    "## Multiple regression"
   ]
  },
  {
   "cell_type": "code",
   "execution_count": 28,
   "id": "18fba08b",
   "metadata": {},
   "outputs": [
    {
     "data": {
      "image/png": "[encoded data removed]",
      "text/plain": [
       "<Figure size 1400x700 with 1 Axes>"
      ]
     },
     "metadata": {},
     "output_type": "display_data"
    }
   ],
   "source": [
    "sns.regplot(data=data.head(100), x='HAEMATOCRIT', y='ERYTHROCYTE')\n",
    "plt.title('Relationship between erythrocyte and haematocrit')\n",
    "plt.grid();"
   ]
  },
  {
   "cell_type": "code",
   "execution_count": 29,
   "id": "c318a636",
   "metadata": {},
   "outputs": [],
   "source": [
    "x = np.array(data[['HAEMOGLOBINS', 'ERYTHROCYTE']])\n",
    "y = np.array(data[['HAEMATOCRIT']])"
   ]
  },
  {
   "cell_type": "code",
   "execution_count": 30,
   "id": "668f1b48",
   "metadata": {},
   "outputs": [
    {
     "data": {
      "text/html": [
       "<style>#sk-container-id-1 {color: black;background-color: white;}#sk-container-id-1 pre{padding: 0;}#sk-container-id-1 div.sk-toggleable {background-color: white;}#sk-container-id-1 label.sk-toggleable__label {cursor: pointer;display: block;width: 100%;margin-bottom: 0;padding: 0.3em;box-sizing: border-box;text-align: center;}#sk-container-id-1 label.sk-toggleable__label-arrow:before {content: \"▸\";float: left;margin-right: 0.25em;color: #696969;}#sk-container-id-1 label.sk-toggleable__label-arrow:hover:before {color: black;}#sk-container-id-1 div.sk-estimator:hover label.sk-toggleable__label-arrow:before {color: black;}#sk-container-id-1 div.sk-toggleable__content {max-height: 0;max-width: 0;overflow: hidden;text-align: left;background-color: #f0f8ff;}#sk-container-id-1 div.sk-toggleable__content pre {margin: 0.2em;color: black;border-radius: 0.25em;background-color: #f0f8ff;}#sk-container-id-1 input.sk-toggleable__control:checked~div.sk-toggleable__content {max-height: 200px;max-width: 100%;overflow: auto;}#sk-container-id-1 input.sk-toggleable__control:checked~label.sk-toggleable__label-arrow:before {content: \"▾\";}#sk-container-id-1 div.sk-estimator input.sk-toggleable__control:checked~label.sk-toggleable__label {background-color: #d4ebff;}#sk-container-id-1 div.sk-label input.sk-toggleable__control:checked~label.sk-toggleable__label {background-color: #d4ebff;}#sk-container-id-1 input.sk-hidden--visually {border: 0;clip: rect(1px 1px 1px 1px);clip: rect(1px, 1px, 1px, 1px);height: 1px;margin: -1px;overflow: hidden;padding: 0;position: absolute;width: 1px;}#sk-container-id-1 div.sk-estimator {font-family: monospace;background-color: #f0f8ff;border: 1px dotted black;border-radius: 0.25em;box-sizing: border-box;margin-bottom: 0.5em;}#sk-container-id-1 div.sk-estimator:hover {background-color: #d4ebff;}#sk-container-id-1 div.sk-parallel-item::after {content: \"\";width: 100%;border-bottom: 1px solid gray;flex-grow: 1;}#sk-container-id-1 div.sk-label:hover label.sk-toggleable__label {background-color: #d4ebff;}#sk-container-id-1 div.sk-serial::before {content: \"\";position: absolute;border-left: 1px solid gray;box-sizing: border-box;top: 0;bottom: 0;left: 50%;z-index: 0;}#sk-container-id-1 div.sk-serial {display: flex;flex-direction: column;align-items: center;background-color: white;padding-right: 0.2em;padding-left: 0.2em;position: relative;}#sk-container-id-1 div.sk-item {position: relative;z-index: 1;}#sk-container-id-1 div.sk-parallel {display: flex;align-items: stretch;justify-content: center;background-color: white;position: relative;}#sk-container-id-1 div.sk-item::before, #sk-container-id-1 div.sk-parallel-item::before {content: \"\";position: absolute;border-left: 1px solid gray;box-sizing: border-box;top: 0;bottom: 0;left: 50%;z-index: -1;}#sk-container-id-1 div.sk-parallel-item {display: flex;flex-direction: column;z-index: 1;position: relative;background-color: white;}#sk-container-id-1 div.sk-parallel-item:first-child::after {align-self: flex-end;width: 50%;}#sk-container-id-1 div.sk-parallel-item:last-child::after {align-self: flex-start;width: 50%;}#sk-container-id-1 div.sk-parallel-item:only-child::after {width: 0;}#sk-container-id-1 div.sk-dashed-wrapped {border: 1px dashed gray;margin: 0 0.4em 0.5em 0.4em;box-sizing: border-box;padding-bottom: 0.4em;background-color: white;}#sk-container-id-1 div.sk-label label {font-family: monospace;font-weight: bold;display: inline-block;line-height: 1.2em;}#sk-container-id-1 div.sk-label-container {text-align: center;}#sk-container-id-1 div.sk-container {/* jupyter's `normalize.less` sets `[hidden] { display: none; }` but bootstrap.min.css set `[hidden] { display: none !important; }` so we also need the `!important` here to be able to override the default hidden behavior on the sphinx rendered scikit-learn.org. See: https://github.com/scikit-learn/scikit-learn/issues/21755 */display: inline-block !important;position: relative;}#sk-container-id-1 div.sk-text-repr-fallback {display: none;}</style><div id=\"sk-container-id-1\" class=\"sk-top-container\"><div class=\"sk-text-repr-fallback\"><pre>LinearRegression()</pre><b>In a Jupyter environment, please rerun this cell to show the HTML representation or trust the notebook. <br />On GitHub, the HTML representation is unable to render, please try loading this page with nbviewer.org.</b></div><div class=\"sk-container\" hidden><div class=\"sk-item\"><div class=\"sk-estimator sk-toggleable\"><input class=\"sk-toggleable__control sk-hidden--visually\" id=\"sk-estimator-id-1\" type=\"checkbox\" checked><label for=\"sk-estimator-id-1\" class=\"sk-toggleable__label sk-toggleable__label-arrow\">LinearRegression</label><div class=\"sk-toggleable__content\"><pre>LinearRegression()</pre></div></div></div></div></div>"
      ],
      "text/plain": [
       "LinearRegression()"
      ]
     },
     "execution_count": 30,
     "metadata": {},
     "output_type": "execute_result"
    }
   ],
   "source": [
    "regr = linear_model.LinearRegression()\n",
    "regr.fit(x,y)"
   ]
  },
  {
   "cell_type": "code",
   "execution_count": 31,
   "id": "b8d406e1",
   "metadata": {},
   "outputs": [
    {
     "name": "stdout",
     "output_type": "stream",
     "text": [
      "[[43.61539568]]\n"
     ]
    }
   ],
   "source": [
    "predictedhaematocrit = regr.predict([[14.5,5.4]])\n",
    "print(predictedhaematocrit) # Prediction"
   ]
  },
  {
   "cell_type": "code",
   "execution_count": 32,
   "id": "b92a7fd5",
   "metadata": {},
   "outputs": [
    {
     "data": {
      "text/plain": [
       "HAEMATOCRIT     44.5\n",
       "HAEMOGLOBINS    14.5\n",
       "ERYTHROCYTE      5.4\n",
       "LEUCOCYTE       12.0\n",
       "THROMBOCYTE      248\n",
       "MCH             26.9\n",
       "MCHC            32.6\n",
       "MCV             82.4\n",
       "AGE               40\n",
       "SEX                M\n",
       "SOURCE           out\n",
       "Name: 1736, dtype: object"
      ]
     },
     "execution_count": 32,
     "metadata": {},
     "output_type": "execute_result"
    }
   ],
   "source": [
    "data.loc[1736] # Actual value"
   ]
  },
  {
   "cell_type": "code",
   "execution_count": 33,
   "id": "0f576019",
   "metadata": {},
   "outputs": [
    {
     "name": "stdout",
     "output_type": "stream",
     "text": [
      "[[2.3068856  1.58554797]]\n"
     ]
    }
   ],
   "source": [
    "print(regr.coef_)"
   ]
  },
  {
   "cell_type": "code",
   "execution_count": 34,
   "id": "6108030a",
   "metadata": {},
   "outputs": [
    {
     "name": "stdout",
     "output_type": "stream",
     "text": [
      "[[38.63851666]]\n"
     ]
    }
   ],
   "source": [
    "predictedhaematocrit = regr.predict([[12.7,4.88]])\n",
    "print(predictedhaematocrit) # prediction"
   ]
  },
  {
   "cell_type": "code",
   "execution_count": 35,
   "id": "24e32c7d",
   "metadata": {},
   "outputs": [
    {
     "data": {
      "text/plain": [
       "'[[38.6]]'"
      ]
     },
     "execution_count": 35,
     "metadata": {},
     "output_type": "execute_result"
    }
   ],
   "source": [
    "str(np.round(predictedhaematocrit,1))"
   ]
  },
  {
   "cell_type": "code",
   "execution_count": 36,
   "id": "1551ca72",
   "metadata": {},
   "outputs": [
    {
     "data": {
      "text/plain": [
       "HAEMATOCRIT     38.0\n",
       "HAEMOGLOBINS    12.7\n",
       "ERYTHROCYTE     4.88\n",
       "LEUCOCYTE       11.2\n",
       "THROMBOCYTE      464\n",
       "MCH             26.0\n",
       "MCHC            33.4\n",
       "MCV             77.9\n",
       "AGE                3\n",
       "SEX                F\n",
       "SOURCE            in\n",
       "Name: 100, dtype: object"
      ]
     },
     "execution_count": 36,
     "metadata": {},
     "output_type": "execute_result"
    }
   ],
   "source": [
    "data.loc[100] # actual value"
   ]
  },
  {
   "cell_type": "code",
   "execution_count": 37,
   "id": "1b49d658",
   "metadata": {},
   "outputs": [
    {
     "data": {
      "text/plain": [
       "0.9615742057213531"
      ]
     },
     "execution_count": 37,
     "metadata": {},
     "output_type": "execute_result"
    }
   ],
   "source": [
    "regr.score(x,y) # "
   ]
  },
  {
   "cell_type": "markdown",
   "id": "23dc3c9c",
   "metadata": {},
   "source": [
    "has a good relationship!"
   ]
  },
  {
   "cell_type": "code",
   "execution_count": 38,
   "id": "2e3cd529",
   "metadata": {},
   "outputs": [],
   "source": [
    "def multiple_prediction_function():\n",
    "    a = float(input('Haemoglobins: '))\n",
    "    b = float(input('Erythrocyte: '))\n",
    "    c = str(np.round(regr.predict([[a,b]]),2))\n",
    "    print('Predicted Haematocrit: {}'.format(c[2:].replace(\"]]\",\"\")))"
   ]
  },
  {
   "cell_type": "code",
   "execution_count": 39,
   "id": "26207487",
   "metadata": {},
   "outputs": [
    {
     "name": "stdout",
     "output_type": "stream",
     "text": [
      "Haemoglobins: 45\n",
      "Erythrocyte: 5\n",
      "Predicted Haematocrit: 113.34\n"
     ]
    }
   ],
   "source": [
    "multiple_prediction_function()"
   ]
  },
  {
   "cell_type": "markdown",
   "id": "25b7fbcb",
   "metadata": {},
   "source": [
    "### Prediction 1"
   ]
  },
  {
   "cell_type": "code",
   "execution_count": 40,
   "id": "a2f7fb3f",
   "metadata": {},
   "outputs": [
    {
     "name": "stdout",
     "output_type": "stream",
     "text": [
      "Haemoglobins: 34\n",
      "Erythrocyte: 56\n",
      "Predicted Haematocrit: 168.83\n"
     ]
    }
   ],
   "source": [
    "multiple_prediction_function()"
   ]
  },
  {
   "cell_type": "markdown",
   "id": "f344a136",
   "metadata": {},
   "source": [
    "### Prediction 2"
   ]
  },
  {
   "cell_type": "code",
   "execution_count": 41,
   "id": "d0dbc51e",
   "metadata": {},
   "outputs": [
    {
     "name": "stdout",
     "output_type": "stream",
     "text": [
      "Haemoglobins: 45\n",
      "Erythrocyte: 56\n",
      "Predicted Haematocrit: 194.2\n"
     ]
    }
   ],
   "source": [
    "multiple_prediction_function()"
   ]
  },
  {
   "cell_type": "markdown",
   "id": "62fc35a4",
   "metadata": {},
   "source": [
    "### Prediction 3"
   ]
  },
  {
   "cell_type": "code",
   "execution_count": 42,
   "id": "5e6b9914",
   "metadata": {},
   "outputs": [
    {
     "name": "stdout",
     "output_type": "stream",
     "text": [
      "Haemoglobins: 5\n",
      "Erythrocyte: 66\n",
      "Predicted Haematocrit: 117.78\n"
     ]
    }
   ],
   "source": [
    "multiple_prediction_function()"
   ]
  },
  {
   "cell_type": "code",
   "execution_count": null,
   "id": "c35f63b5",
   "metadata": {},
   "outputs": [],
   "source": []
  }
 ],
 "metadata": {
  "kernelspec": {
   "display_name": "Python 3 (ipykernel)",
   "language": "python",
   "name": "python3"
  },
  "language_info": {
   "codemirror_mode": {
    "name": "ipython",
    "version": 3
   },
   "file_extension": ".py",
   "mimetype": "text/x-python",
   "name": "python",
   "nbconvert_exporter": "python",
   "pygments_lexer": "ipython3",
   "version": "3.10.9"
  }
 },
 "nbformat": 4,
 "nbformat_minor": 5
}
